{
 "cells": [
  {
   "cell_type": "code",
   "execution_count": null,
   "id": "5021959f",
   "metadata": {},
   "outputs": [],
   "source": [
    "import pandas as pd\n",
    "import numpy as np\n",
    "import matplotlib.pyplot as plt\n",
    "import seaborn as sns\n",
    "%matplotlib inline"
   ]
  },
  {
   "cell_type": "code",
   "execution_count": null,
   "id": "9d984f6b",
   "metadata": {},
   "outputs": [],
   "source": [
    "training_set = pd.read_csv('Train_Titanic.csv')\n",
    "training_set.head(10)\n",
    "\n",
    "\n",
    "#Pclass : TIcket class (1 = 1st, 2 = 2nd, 3 = 3rd)\n",
    "#Sex = Male, Female\n",
    "#Age = Age in years\n",
    "#SibSp = number of siblings/spouses aboard the Titanic\n",
    "#Parch = number of parents/childern aboard the Titanic\n",
    "#Ticket = Ticket Number\n",
    "#Fare = Passenger fare\n",
    "# Cabin  = Cabin Number\n",
    "#Port Embarked : Port of Embarkation C = Cherbourg, Q = Queenstown, S = Southampton\n",
    "\n",
    "#Target Class : Survived : Survival (0 = No , 1 = Yes )\n",
    "\n"
   ]
  },
  {
   "cell_type": "code",
   "execution_count": null,
   "id": "3d44f2e4",
   "metadata": {},
   "outputs": [],
   "source": [
    "training_set.tail(10)"
   ]
  },
  {
   "cell_type": "code",
   "execution_count": null,
   "id": "e9398575",
   "metadata": {},
   "outputs": [],
   "source": [
    "\n",
    "training_set[\"Fare\"].max()"
   ]
  },
  {
   "cell_type": "code",
   "execution_count": null,
   "id": "e45ff8a6",
   "metadata": {},
   "outputs": [],
   "source": [
    "training_set.shape\n",
    "\n"
   ]
  },
  {
   "cell_type": "code",
   "execution_count": null,
   "id": "d472adb7",
   "metadata": {},
   "outputs": [],
   "source": [
    "training_set.info"
   ]
  },
  {
   "cell_type": "code",
   "execution_count": null,
   "id": "3cf7931b",
   "metadata": {},
   "outputs": [],
   "source": [
    "survived = training_set[training_set['Survived']==1]\n",
    "\n",
    "no_survived = training_set[training_set['Survived']==0]"
   ]
  },
  {
   "cell_type": "code",
   "execution_count": null,
   "id": "21b11211",
   "metadata": {},
   "outputs": [],
   "source": [
    "print ('Number of passengers who survived = ', len(survived))\n",
    "\n",
    "print ('Number of passengers who NOT survived = ', len(no_survived)) "
   ]
  },
  {
   "cell_type": "code",
   "execution_count": null,
   "id": "eb8c7a15",
   "metadata": {},
   "outputs": [],
   "source": [
    "print('% SURVIVED = ', 1.* len(survived)/len(training_set) *100)\n",
    "print('% NOT SURVIVED = ', 1.* len(no_survived)/len(training_set) *100)"
   ]
  },
  {
   "cell_type": "code",
   "execution_count": null,
   "id": "b928c2f6",
   "metadata": {},
   "outputs": [],
   "source": [
    "plt.figure (figsize = [6, 12])\n",
    "plt.subplot(211)\n",
    "sns.countplot( x = 'Pclass' ,data = training_set)\n",
    "\n",
    "plt.subplot(212)\n",
    "\n",
    "sns.countplot( x = 'Pclass' ,hue = 'Survived' ,data = training_set)\n",
    "\n",
    "#if you are in class 3, your chance of surviving will be much less compared to class 1 and , only 1/3 of people in class 3 survived.\n"
   ]
  },
  {
   "cell_type": "code",
   "execution_count": null,
   "id": "c1694665",
   "metadata": {},
   "outputs": [],
   "source": [
    "plt.figure (figsize = [6, 12])\n",
    "plt.subplot(211)\n",
    "sns.countplot( x = 'SibSp' ,data = training_set)\n",
    "\n",
    "plt.subplot(212)\n",
    "\n",
    "sns.countplot( x = 'SibSp' ,hue = 'Survived' ,data = training_set)\n",
    "\n",
    "#Well, your chances of survival is actually low if you have no siblings\n",
    "#higher chance of survial if you have 1 sibling and so on\n"
   ]
  },
  {
   "cell_type": "code",
   "execution_count": null,
   "id": "e98aae77",
   "metadata": {},
   "outputs": [],
   "source": [
    "#checking the chance of survival if you have parents on board\n",
    "plt.figure (figsize = [6, 12])\n",
    "plt.subplot(211)\n",
    "sns.countplot( x = 'Parch' ,data = training_set)\n",
    "\n",
    "plt.subplot(212)\n",
    "\n",
    "sns.countplot( x = 'Parch' ,hue = 'Survived' ,data = training_set)"
   ]
  },
  {
   "cell_type": "code",
   "execution_count": null,
   "id": "eb30f6e5",
   "metadata": {},
   "outputs": [],
   "source": [
    "plt.figure (figsize = [6, 12])\n",
    "plt.subplot(211)\n",
    "sns.countplot( x = 'Embarked' ,data = training_set)\n",
    "\n",
    "plt.subplot(212)\n",
    "\n",
    "sns.countplot( x = 'Embarked' ,hue = 'Survived' ,data = training_set)"
   ]
  },
  {
   "cell_type": "code",
   "execution_count": null,
   "id": "f1ac444a",
   "metadata": {},
   "outputs": [],
   "source": [
    "plt.figure (figsize = [6, 12])\n",
    "plt.subplot(211)\n",
    "sns.countplot( x = 'Sex' ,data = training_set)\n",
    "\n",
    "plt.subplot(212)\n",
    "\n",
    "sns.countplot( x = 'Sex' ,hue = 'Survived' ,data = training_set)\n",
    "\n",
    "# female has higher change of survival"
   ]
  },
  {
   "cell_type": "code",
   "execution_count": null,
   "id": "264d5802",
   "metadata": {},
   "outputs": [],
   "source": [
    "plt.figure (figsize = [40, 30])\n",
    "sns.countplot(x='Age', hue='Survived', data=training_set)"
   ]
  },
  {
   "cell_type": "code",
   "execution_count": null,
   "id": "d82bc7c8",
   "metadata": {},
   "outputs": [],
   "source": [
    "training_set['Age'].hist(bins=40)\n",
    "\n",
    "#majority of the people fall under 20-40 years old, there were a number amount of kids"
   ]
  },
  {
   "cell_type": "code",
   "execution_count": null,
   "id": "5b2115d1",
   "metadata": {},
   "outputs": [],
   "source": [
    "plt.figure (figsize = [40, 30])\n",
    "sns.countplot(x='Fare', hue='Survived', data=training_set)"
   ]
  },
  {
   "cell_type": "code",
   "execution_count": null,
   "id": "9bfe34b4",
   "metadata": {},
   "outputs": [],
   "source": [
    "training_set['Fare'].hist(bins=40)\n",
    "\n",
    "#majority of people spent $0-$20,$30 dollars"
   ]
  },
  {
   "cell_type": "code",
   "execution_count": null,
   "id": "45181c95",
   "metadata": {},
   "outputs": [],
   "source": [
    "#PREPROCESSING DATA\n",
    "\n",
    "sns.heatmap(training_set.isnull(), yticklabels = False , cbar = False ,cmap = \"Blues\")\n",
    "\n",
    "\n",
    "\n",
    "\n"
   ]
  },
  {
   "cell_type": "code",
   "execution_count": null,
   "id": "75a44df7",
   "metadata": {},
   "outputs": [],
   "source": [
    "training_set.drop(['Cabin','Ticket','Embarked','PassengerId','Name'], axis =1, inplace = True)"
   ]
  },
  {
   "cell_type": "code",
   "execution_count": null,
   "id": "45de74e3",
   "metadata": {},
   "outputs": [],
   "source": [
    "training_set"
   ]
  },
  {
   "cell_type": "code",
   "execution_count": null,
   "id": "1deb4259",
   "metadata": {},
   "outputs": [],
   "source": [
    "sns.heatmap(training_set.isnull(), yticklabels = False , cbar = False ,cmap = \"Blues\")\n"
   ]
  },
  {
   "cell_type": "code",
   "execution_count": null,
   "id": "bf8bb8a4",
   "metadata": {},
   "outputs": [],
   "source": [
    "plt.figure(figsize = (15,10))\n",
    "sns.boxplot(x = 'Sex', y ='Age', data = training_set)\n",
    "\n",
    "# average age for male is around 29, average age for female is lower around 25\n",
    "#"
   ]
  },
  {
   "cell_type": "code",
   "execution_count": null,
   "id": "899fd79a",
   "metadata": {},
   "outputs": [],
   "source": [
    "##### fillin NULL values in Age #########\n",
    "\n",
    "def Fill_Age(data):\n",
    "    age = data[0]\n",
    "    sex = data[1]\n",
    "    \n",
    "    if pd.isnull(age):\n",
    "        if sex == 'male':\n",
    "            return 29\n",
    "        else:\n",
    "            return 25\n",
    "        \n",
    "    else:\n",
    "        return age\n"
   ]
  },
  {
   "cell_type": "code",
   "execution_count": null,
   "id": "081a2a60",
   "metadata": {},
   "outputs": [],
   "source": [
    "training_set['Age']=training_set[['Age','Sex']].apply(Fill_Age , axis =1 )"
   ]
  },
  {
   "cell_type": "code",
   "execution_count": null,
   "id": "5ec5acae",
   "metadata": {},
   "outputs": [],
   "source": [
    "sns.heatmap(training_set.isnull(), yticklabels = False , cbar = False ,cmap = \"Blues\")"
   ]
  },
  {
   "cell_type": "code",
   "execution_count": null,
   "id": "0f07ec4e",
   "metadata": {},
   "outputs": [],
   "source": [
    "training_set['Age'].hist(bins=40)\n"
   ]
  },
  {
   "cell_type": "code",
   "execution_count": null,
   "id": "edd474d4",
   "metadata": {},
   "outputs": [],
   "source": [
    "male = pd.get_dummies(training_set['Sex'], drop_first = True)"
   ]
  },
  {
   "cell_type": "code",
   "execution_count": null,
   "id": "5ae8a201",
   "metadata": {},
   "outputs": [],
   "source": [
    "male"
   ]
  },
  {
   "cell_type": "code",
   "execution_count": null,
   "id": "2eefaada",
   "metadata": {},
   "outputs": [],
   "source": [
    "training_set.drop(['Sex'] , axis =1 , inplace = True)"
   ]
  },
  {
   "cell_type": "code",
   "execution_count": null,
   "id": "c3d00f15",
   "metadata": {},
   "outputs": [],
   "source": [
    "training_set"
   ]
  },
  {
   "cell_type": "code",
   "execution_count": null,
   "id": "e4c216e1",
   "metadata": {},
   "outputs": [],
   "source": [
    "training_set = pd.concat([training_set, male] , axis =1)"
   ]
  },
  {
   "cell_type": "code",
   "execution_count": null,
   "id": "111524e6",
   "metadata": {},
   "outputs": [],
   "source": [
    "training_set"
   ]
  },
  {
   "cell_type": "code",
   "execution_count": null,
   "id": "559da568",
   "metadata": {},
   "outputs": [],
   "source": [
    "# rename columns values \n",
    "#training_set.columns.values"
   ]
  },
  {
   "cell_type": "code",
   "execution_count": null,
   "id": "422a281c",
   "metadata": {},
   "outputs": [],
   "source": [
    "#column_name = (['Survived', 'Pclass', 'Age', 'SibSp', 'Parch', 'Fare', 'Sex Dummies'])"
   ]
  },
  {
   "cell_type": "code",
   "execution_count": null,
   "id": "a09cf8eb",
   "metadata": {},
   "outputs": [],
   "source": [
    "#training_set.columns = column_name"
   ]
  },
  {
   "cell_type": "code",
   "execution_count": null,
   "id": "099ddfd1",
   "metadata": {},
   "outputs": [],
   "source": [
    "#### TRAINING MODEL#######\n",
    "\n",
    "# training dataset with inputs\n",
    "\n",
    "X = training_set.drop('Survived' , axis =1).values"
   ]
  },
  {
   "cell_type": "code",
   "execution_count": null,
   "id": "cfc39101",
   "metadata": {},
   "outputs": [],
   "source": [
    "X"
   ]
  },
  {
   "cell_type": "code",
   "execution_count": null,
   "id": "54554781",
   "metadata": {},
   "outputs": [],
   "source": [
    "# training dataset with targets/outputs\n",
    "y = training_set['Survived'].values"
   ]
  },
  {
   "cell_type": "code",
   "execution_count": null,
   "id": "2bd0e191",
   "metadata": {},
   "outputs": [],
   "source": [
    "y"
   ]
  },
  {
   "cell_type": "code",
   "execution_count": null,
   "id": "75b237b7",
   "metadata": {},
   "outputs": [],
   "source": [
    "#array 1 = a training dataset with inputs = X_train\n",
    "#array 2 = a training dataset with targets =  y_train\n",
    "#array 3 = a test dataset with inputs = X_test\n",
    "#array 4 = a test dataset with targets = y_test\n",
    "\n",
    "#X = inputs\n",
    "#y= targets\n",
    "\n",
    "from sklearn.model_selection import train_test_split\n",
    "\n",
    "\n",
    "X_train, X_test, y_train, y_test = train_test_split(X, y , test_size  = 0.2 , random_state = 10)"
   ]
  },
  {
   "cell_type": "code",
   "execution_count": null,
   "id": "73db63bb",
   "metadata": {},
   "outputs": [],
   "source": [
    "from sklearn.linear_model import LogisticRegression\n",
    "\n",
    "classifier = LogisticRegression(random_state = 0)\n",
    "classifier.fit(X_train,y_train)"
   ]
  },
  {
   "cell_type": "code",
   "execution_count": null,
   "id": "51fdcc29",
   "metadata": {},
   "outputs": [],
   "source": []
  }
 ],
 "metadata": {
  "kernelspec": {
   "display_name": "Python 3",
   "language": "python",
   "name": "python3"
  },
  "language_info": {
   "codemirror_mode": {
    "name": "ipython",
    "version": 3
   },
   "file_extension": ".py",
   "mimetype": "text/x-python",
   "name": "python",
   "nbconvert_exporter": "python",
   "pygments_lexer": "ipython3",
   "version": "3.8.8"
  }
 },
 "nbformat": 4,
 "nbformat_minor": 5
}
