{
 "cells": [
  {
   "cell_type": "code",
   "execution_count": null,
   "id": "d7cb97a3",
   "metadata": {},
   "outputs": [],
   "source": [
    "import pandas as pd\n",
    "import numpy as np\n",
    "import matplotlib.pyplot as plt\n",
    "import seaborn as sns\n",
    "%matplotlib inline"
   ]
  },
  {
   "cell_type": "code",
   "execution_count": null,
   "id": "d3539590",
   "metadata": {},
   "outputs": [],
   "source": [
    "training_set = pd.read_csv('Train_Titanic.csv')\n",
    "training_set.head(10)\n",
    "\n",
    "\n",
    "#Pclass : TIcket class (1 = 1st, 2 = 2nd, 3 = 3rd)\n",
    "#Sex = Male, Female\n",
    "#Age = Age in years\n",
    "#SibSp = number of siblings/spouses aboard the Titanic\n",
    "#Parch = number of parents/childern aboard the Titanic\n",
    "#Ticket = Ticket Number\n",
    "#Fare = Passenger fare\n",
    "# Cabin  = Cabin Number\n",
    "#Port Embarked : Port of Embarkation C = Cherbourg, Q = Queenstown, S = Southampton\n",
    "\n",
    "#Target Class : Survived : Survival (0 = No , 1 = Yes )\n",
    "\n"
   ]
  },
  {
   "cell_type": "code",
   "execution_count": null,
   "id": "954446fa",
   "metadata": {},
   "outputs": [],
   "source": [
    "training_set.tail(10)"
   ]
  },
  {
   "cell_type": "code",
   "execution_count": null,
   "id": "f71f35c6",
   "metadata": {},
   "outputs": [],
   "source": [
    "training_set.shape\n",
    "\n"
   ]
  },
  {
   "cell_type": "code",
   "execution_count": null,
   "id": "dad708a5",
   "metadata": {},
   "outputs": [],
   "source": [
    "training_set.info"
   ]
  },
  {
   "cell_type": "code",
   "execution_count": null,
   "id": "054f8fbc",
   "metadata": {},
   "outputs": [],
   "source": [
    "survived = training_set[training_set['Survived']==1]\n",
    "\n",
    "no_survived = training_set[training_set['Survived']==0]"
   ]
  },
  {
   "cell_type": "code",
   "execution_count": null,
   "id": "0c0f45cc",
   "metadata": {},
   "outputs": [],
   "source": [
    "print ('Number of passengers who survived = ', len(survived))\n",
    "\n",
    "print ('Number of passengers who NOT survived = ', len(no_survived)) "
   ]
  },
  {
   "cell_type": "code",
   "execution_count": null,
   "id": "e52af50e",
   "metadata": {},
   "outputs": [],
   "source": [
    "print('% SURVIVED = ', 1.* len(survived)/len(training_set) *100)"
   ]
  },
  {
   "cell_type": "code",
   "execution_count": null,
   "id": "c59629a1",
   "metadata": {},
   "outputs": [],
   "source": [
    "training_set.drop('PassengerId', 'Name', 'Ticket')\n",
    "\n",
    "training_set.head()"
   ]
  }
 ],
 "metadata": {
  "kernelspec": {
   "display_name": "Python 3",
   "language": "python",
   "name": "python3"
  },
  "language_info": {
   "codemirror_mode": {
    "name": "ipython",
    "version": 3
   },
   "file_extension": ".py",
   "mimetype": "text/x-python",
   "name": "python",
   "nbconvert_exporter": "python",
   "pygments_lexer": "ipython3",
   "version": "3.8.8"
  }
 },
 "nbformat": 4,
 "nbformat_minor": 5
}
